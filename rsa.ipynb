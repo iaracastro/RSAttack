{
 "cells": [
  {
   "cell_type": "markdown",
   "metadata": {},
   "source": [
    "## RSA\n",
    "\n",
    "O RSA envolve um par de chaves, uma chave pública que pode ser conhecida por todos e uma chave privada que deve ser mantida em sigilo. Toda mensagem cifrada usando uma chave pública só pode ser decifrada usando a respectiva chave privada. A criptografia RSA atua diretamente na internet, por exemplo, em mensagens de emails, em compras on-line e o que você imaginar; tudo isso é encriptado e decriptado pela criptografia RSA.\n",
    "\n",
    "Geração das chaves\n",
    "No RSA as chaves são geradas desta maneira:\n",
    "\n",
    "1- Escolha de forma aleatória dois números primos grandes $p$ e $q$ (ordem de $10^{100}$ no mínimo).\\\n",
    "2- Calcule o produto $n = p \\cdot q$.\\\n",
    "3- Calcule a função Função totiente de Euler em n: $\\phi (n)=(p-1)(q-1)$\\\n",
    "4- Escolha um inteiro $e$ tal que $1 < e <\\phi (n)$, de forma que $e$ e $\\phi (n)$ sejam relativamente primos entre si.\\\n",
    "5- Calcule $d$ de forma que $d e \\equiv 1 \\quad \\pmod \\phi (n)$, ou seja, $d$ seja o inverso multiplicativo de $e$ em \n",
    "$\\pmod {\\phi (n)}$."
   ]
  },
  {
   "cell_type": "markdown",
   "metadata": {},
   "source": [
    "### Chaves\n",
    "\n",
    "- A chave pública: $(n,e)$.\n",
    "\n",
    "- A chave privada: a tripla $(p,q,d)$."
   ]
  }
 ],
 "metadata": {
  "language_info": {
   "name": "python"
  }
 },
 "nbformat": 4,
 "nbformat_minor": 2
}
