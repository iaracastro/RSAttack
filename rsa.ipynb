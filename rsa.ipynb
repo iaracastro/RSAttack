{
 "cells": [
  {
   "cell_type": "markdown",
   "metadata": {},
   "source": [
    "## RSA\n",
    "\n",
    "O RSA envolve um par de chaves, uma chave pública que pode ser conhecida por todos e uma chave privada que deve ser mantida em sigilo. Toda mensagem cifrada usando uma chave pública só pode ser decifrada usando a respectiva chave privada. A criptografia RSA atua diretamente na internet, por exemplo, em mensagens de emails, em compras on-line e o que você imaginar; tudo isso é encriptado e decriptado pela criptografia RSA.\n",
    "\n",
    "Geração das chaves\n",
    "No RSA as chaves são geradas desta maneira:\n",
    "\n",
    "1- Escolha de forma aleatória dois números primos grandes $p$ e $q$ (ordem de $10^{100}$ no mínimo).\\\n",
    "2- Calcule o produto $n = p \\cdot q$.\\\n",
    "3- Calcule a função Função totiente de Euler em n: $\\phi (n)=(p-1)(q-1)$\\\n",
    "4- Escolha um inteiro $e$ tal que $1 < e <\\phi (n)$, de forma que $e$ e $\\phi (n)$ sejam relativamente primos entre si.\\\n",
    "5- Calcule $d$ de forma que $d e \\equiv 1 \\quad \\pmod{\\phi (n)}$, ou seja, $d$ seja o inverso multiplicativo de $e$ em \n",
    "$\\pmod {\\phi (n)}$."
   ]
  },
  {
   "cell_type": "markdown",
   "metadata": {},
   "source": [
    "### Chaves\n",
    "\n",
    "- A chave pública: $(n,e)$.\n",
    "\n",
    "- A chave privada: a tripla $(p,q,d)$."
   ]
  },
  {
   "cell_type": "markdown",
   "metadata": {},
   "source": [
    "### Encriptação de Mensagem\n",
    "\n",
    "Para transformar uma mensagem $m$, onde $1 < m < n-1$, numa mensagem $c$ cifrada usando a chave pública do destinatário $n$ e $e$, basta fazer uma potenciação modular:\n",
    "\n",
    "$m^e \\equiv c \\quad \\pmod n$\t\n",
    "\n",
    "### Decriptação de Mensagem\n",
    "\n",
    "Para decriptar a mensagem $c$ cifrada, basta fazer uma potenciação modular:\n",
    "\n",
    "$c^d \\equiv m \\quad \\pmod n$"
   ]
  },
  {
   "cell_type": "markdown",
   "metadata": {},
   "source": [
    "### Exemplo Simples:"
   ]
  },
  {
   "cell_type": "code",
   "execution_count": 5,
   "metadata": {},
   "outputs": [],
   "source": [
    "import math"
   ]
  },
  {
   "cell_type": "code",
   "execution_count": 15,
   "metadata": {},
   "outputs": [],
   "source": [
    "p = 3\n",
    "q = 7\n",
    "n = p*q\n",
    "phi = (p-1)*(q-1)\n",
    "\n",
    "e = 2\n",
    "while (e < phi):\n",
    "    # e must be co-prime to phi and\n",
    "    # smaller than phi.\n",
    "    if(math.gcd(e, phi) == 1):\n",
    "        break\n",
    "    else:\n",
    "        e = e+1"
   ]
  },
  {
   "cell_type": "code",
   "execution_count": 13,
   "metadata": {},
   "outputs": [
    {
     "name": "stdout",
     "output_type": "stream",
     "text": [
      "Message data =  12.0\n",
      "Encrypted data =  3.0\n",
      "Decrypted data =  12.0\n"
     ]
    }
   ],
   "source": [
    "# Private key (d stands for decrypt)\n",
    "# choosing d such that it satisfies\n",
    "# d*e = 1 + k * totient\n",
    "\n",
    "k = 2\n",
    "d = (1 + (k*phi))/e\n",
    "\n",
    "# Message to be encrypted\n",
    "msg = 12.0\n",
    "\n",
    "print(\"Message data = \", msg)\n",
    "\n",
    "# Encryption c = (msg ^ e) % n\n",
    "c = math.fmod(pow(msg, e), n)\n",
    "print(\"Encrypted data = \", c)\n",
    "\n",
    "# Decryption m = (c ^ d) % n\n",
    "m = pow(c, d)\n",
    "m = math.fmod(m, n)\n",
    "print(\"Decrypted data = \", m)"
   ]
  },
  {
   "cell_type": "markdown",
   "metadata": {},
   "source": [
    "### Gerador de Primos (Para testes)"
   ]
  },
  {
   "cell_type": "code",
   "execution_count": 77,
   "metadata": {},
   "outputs": [],
   "source": [
    "prime = []\n",
    "# Coletando números primos pelo método de Eratóstenes\n",
    "def primefiller():\n",
    "    seive = [True] * 250\n",
    "    seive[0] = False\n",
    "    seive[1] = False\n",
    "    for i in range(2, 250):\n",
    "        for j in range(i * 2, 250, i): # Marca todos os múltiplos de i como não primos\n",
    "            seive[j] = False\n",
    "\n",
    "    # Filling the prime numbers\n",
    "    for i in range(len(seive)):\n",
    "        if seive[i]:\n",
    "            prime.append(i)"
   ]
  },
  {
   "cell_type": "markdown",
   "metadata": {},
   "source": [
    "### Gerador de Chaves"
   ]
  },
  {
   "cell_type": "code",
   "execution_count": 120,
   "metadata": {},
   "outputs": [],
   "source": [
    "import random\n",
    "import math\n",
    "\n",
    "public_key = None\n",
    "private_key = None\n",
    "n = None\n",
    "\n",
    "def modular_inverse(e, phi_n):\n",
    "    def extended_gcd(a, b):\n",
    "        if b == 0:\n",
    "            return a, 1, 0\n",
    "        gcd, x1, y1 = extended_gcd(b, a % b)\n",
    "        x = y1\n",
    "        y = x1 - (a // b) * y1\n",
    "        return gcd, x, y\n",
    "\n",
    "    gcd, x, _ = extended_gcd(e, phi_n)\n",
    "    return x % phi_n\n",
    "\n",
    "\n",
    "def setkeys(prime1 = None, prime2 = None):\n",
    "    global public_key, private_key, n\n",
    "    \n",
    "    if prime1 is None or prime2 is None:\n",
    "        primefiller()\n",
    "        prime1, prime2 = random.choices(prime, k=2)\n",
    "\n",
    "    n = prime1 * prime2\n",
    "    phi = (prime1 - 1) * (prime2 - 1)\n",
    "\n",
    "    e = 2\n",
    "    while True:\n",
    "        if math.gcd(e, phi) == 1:\n",
    "            break\n",
    "        e += 1\n",
    "\n",
    "    # d = (k*Φ(n) + 1) / e for some integer k\n",
    "    public_key = e\n",
    "    private_key = modular_inverse(e, phi)"
   ]
  },
  {
   "cell_type": "code",
   "execution_count": 141,
   "metadata": {},
   "outputs": [],
   "source": [
    "# To encrypt the given number\n",
    "def encrypt(message):\n",
    "    global public_key, n\n",
    "    e = public_key\n",
    "    return pow(message, e, n)\n",
    "\n",
    "# To decrypt the given number\n",
    "def decrypt(encrypted_text):\n",
    "    global private_key, n\n",
    "    d = private_key\n",
    "    return pow(encrypted_text, d, n)\n",
    "\n",
    "\n",
    "# First converting each character to its ASCII value and\n",
    "# then encoding it then decoding the number to get the\n",
    "# ASCII and converting it to character\n",
    "def encoder(message):\n",
    "    encoded = []\n",
    "    # Calling the encrypting function in encoding function\n",
    "    for letter in message:\n",
    "        encoded.append(encrypt(ord(letter)))\n",
    "    return encoded\n",
    "\n",
    "\n",
    "def decoder(encoded):\n",
    "    s = ''\n",
    "    # Calling the decrypting function decoding function\n",
    "    for num in encoded:\n",
    "        s += chr(decrypt(num))\n",
    "    return s"
   ]
  },
  {
   "cell_type": "markdown",
   "metadata": {},
   "source": [
    "### Mais um Exemplo:"
   ]
  },
  {
   "cell_type": "code",
   "execution_count": 150,
   "metadata": {},
   "outputs": [
    {
     "name": "stdout",
     "output_type": "stream",
     "text": [
      "Mensagem enviada: Oi, janaína!\n",
      "\n",
      " Mensagem criptografada (por chave pública)\n",
      "\n",
      "19203908986159140710042265625319277809664343597383681503630258991368079828447811319487171000000080798284478113419989489527297331948717100000008079828447811342618442977\n",
      "\n",
      " Mensagem descriptografada (por chave privada)\n",
      "\n",
      "Oi, janaína!\n"
     ]
    }
   ],
   "source": [
    "p1 = 1000000005721 # primo grande 1\n",
    "p2 = 1000000000163 # primo grande 2\n",
    "setkeys(p1, p2)\n",
    "\n",
    "message = \"Oi, janaína!\"\n",
    "coded = encoder(message)\n",
    "\n",
    "print(\"Mensagem enviada:\", message)\n",
    "print(\"\\n Mensagem criptografada (por chave pública)\\n\")\n",
    "print(''.join(str(p) for p in coded))\n",
    "print(\"\\n Mensagem descriptografada (por chave privada)\\n\")\n",
    "print(''.join(str(p) for p in decoder(coded)))"
   ]
  }
 ],
 "metadata": {
  "kernelspec": {
   "display_name": "base",
   "language": "python",
   "name": "python3"
  },
  "language_info": {
   "codemirror_mode": {
    "name": "ipython",
    "version": 3
   },
   "file_extension": ".py",
   "mimetype": "text/x-python",
   "name": "python",
   "nbconvert_exporter": "python",
   "pygments_lexer": "ipython3",
   "version": "3.11.8"
  }
 },
 "nbformat": 4,
 "nbformat_minor": 2
}
